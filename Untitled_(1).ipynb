{
  "cells": [
    {
      "cell_type": "markdown",
      "metadata": {
        "id": "view-in-github",
        "colab_type": "text"
      },
      "source": [
        "<a href=\"https://colab.research.google.com/github/1234209/salary-analysis-/blob/main/Untitled_(1).ipynb\" target=\"_parent\"><img src=\"https://colab.research.google.com/assets/colab-badge.svg\" alt=\"Open In Colab\"/></a>"
      ]
    },
    {
      "cell_type": "code",
      "execution_count": null,
      "id": "1ae6425b",
      "metadata": {
        "id": "1ae6425b",
        "outputId": "255e7aeb-96ba-44e0-9697-30fff5dbdae4"
      },
      "outputs": [
        {
          "data": {
            "text/html": [
              "<div>\n",
              "<style scoped>\n",
              "    .dataframe tbody tr th:only-of-type {\n",
              "        vertical-align: middle;\n",
              "    }\n",
              "\n",
              "    .dataframe tbody tr th {\n",
              "        vertical-align: top;\n",
              "    }\n",
              "\n",
              "    .dataframe thead th {\n",
              "        text-align: right;\n",
              "    }\n",
              "</style>\n",
              "<table border=\"1\" class=\"dataframe\">\n",
              "  <thead>\n",
              "    <tr style=\"text-align: right;\">\n",
              "      <th></th>\n",
              "      <th>Age</th>\n",
              "      <th>Workclass</th>\n",
              "      <th>Fnlwgt</th>\n",
              "      <th>Education</th>\n",
              "      <th>education_num</th>\n",
              "      <th>marital_status</th>\n",
              "      <th>occupation</th>\n",
              "      <th>relationship</th>\n",
              "      <th>race</th>\n",
              "      <th>sex</th>\n",
              "      <th>capital_gain</th>\n",
              "      <th>capital_loss</th>\n",
              "      <th>hours_per_week</th>\n",
              "      <th>native_country</th>\n",
              "      <th>income</th>\n",
              "    </tr>\n",
              "  </thead>\n",
              "  <tbody>\n",
              "    <tr>\n",
              "      <th>0</th>\n",
              "      <td>39</td>\n",
              "      <td>State-gov</td>\n",
              "      <td>77516</td>\n",
              "      <td>Bachelors</td>\n",
              "      <td>13</td>\n",
              "      <td>Never-married</td>\n",
              "      <td>Adm-clerical</td>\n",
              "      <td>Not-in-family</td>\n",
              "      <td>White</td>\n",
              "      <td>Male</td>\n",
              "      <td>2174</td>\n",
              "      <td>0</td>\n",
              "      <td>40</td>\n",
              "      <td>United-States</td>\n",
              "      <td>&lt;=50K</td>\n",
              "    </tr>\n",
              "    <tr>\n",
              "      <th>1</th>\n",
              "      <td>50</td>\n",
              "      <td>Self-emp-not-inc</td>\n",
              "      <td>83311</td>\n",
              "      <td>Bachelors</td>\n",
              "      <td>13</td>\n",
              "      <td>Married-civ-spouse</td>\n",
              "      <td>Exec-managerial</td>\n",
              "      <td>Husband</td>\n",
              "      <td>White</td>\n",
              "      <td>Male</td>\n",
              "      <td>0</td>\n",
              "      <td>0</td>\n",
              "      <td>13</td>\n",
              "      <td>United-States</td>\n",
              "      <td>&lt;=50K</td>\n",
              "    </tr>\n",
              "    <tr>\n",
              "      <th>2</th>\n",
              "      <td>38</td>\n",
              "      <td>Private</td>\n",
              "      <td>215646</td>\n",
              "      <td>HS-grad</td>\n",
              "      <td>9</td>\n",
              "      <td>Divorced</td>\n",
              "      <td>Handlers-cleaners</td>\n",
              "      <td>Not-in-family</td>\n",
              "      <td>White</td>\n",
              "      <td>Male</td>\n",
              "      <td>0</td>\n",
              "      <td>0</td>\n",
              "      <td>40</td>\n",
              "      <td>United-States</td>\n",
              "      <td>&lt;=50K</td>\n",
              "    </tr>\n",
              "    <tr>\n",
              "      <th>3</th>\n",
              "      <td>53</td>\n",
              "      <td>Private</td>\n",
              "      <td>234721</td>\n",
              "      <td>11th</td>\n",
              "      <td>7</td>\n",
              "      <td>Married-civ-spouse</td>\n",
              "      <td>Handlers-cleaners</td>\n",
              "      <td>Husband</td>\n",
              "      <td>Black</td>\n",
              "      <td>Male</td>\n",
              "      <td>0</td>\n",
              "      <td>0</td>\n",
              "      <td>40</td>\n",
              "      <td>United-States</td>\n",
              "      <td>&lt;=50K</td>\n",
              "    </tr>\n",
              "    <tr>\n",
              "      <th>4</th>\n",
              "      <td>28</td>\n",
              "      <td>Private</td>\n",
              "      <td>338409</td>\n",
              "      <td>Bachelors</td>\n",
              "      <td>13</td>\n",
              "      <td>Married-civ-spouse</td>\n",
              "      <td>Prof-specialty</td>\n",
              "      <td>Wife</td>\n",
              "      <td>Black</td>\n",
              "      <td>Female</td>\n",
              "      <td>0</td>\n",
              "      <td>0</td>\n",
              "      <td>40</td>\n",
              "      <td>Cuba</td>\n",
              "      <td>&lt;=50K</td>\n",
              "    </tr>\n",
              "    <tr>\n",
              "      <th>...</th>\n",
              "      <td>...</td>\n",
              "      <td>...</td>\n",
              "      <td>...</td>\n",
              "      <td>...</td>\n",
              "      <td>...</td>\n",
              "      <td>...</td>\n",
              "      <td>...</td>\n",
              "      <td>...</td>\n",
              "      <td>...</td>\n",
              "      <td>...</td>\n",
              "      <td>...</td>\n",
              "      <td>...</td>\n",
              "      <td>...</td>\n",
              "      <td>...</td>\n",
              "      <td>...</td>\n",
              "    </tr>\n",
              "    <tr>\n",
              "      <th>32556</th>\n",
              "      <td>27</td>\n",
              "      <td>Private</td>\n",
              "      <td>257302</td>\n",
              "      <td>Assoc-acdm</td>\n",
              "      <td>12</td>\n",
              "      <td>Married-civ-spouse</td>\n",
              "      <td>Tech-support</td>\n",
              "      <td>Wife</td>\n",
              "      <td>White</td>\n",
              "      <td>Female</td>\n",
              "      <td>0</td>\n",
              "      <td>0</td>\n",
              "      <td>38</td>\n",
              "      <td>United-States</td>\n",
              "      <td>&lt;=50K</td>\n",
              "    </tr>\n",
              "    <tr>\n",
              "      <th>32557</th>\n",
              "      <td>40</td>\n",
              "      <td>Private</td>\n",
              "      <td>154374</td>\n",
              "      <td>HS-grad</td>\n",
              "      <td>9</td>\n",
              "      <td>Married-civ-spouse</td>\n",
              "      <td>Machine-op-inspct</td>\n",
              "      <td>Husband</td>\n",
              "      <td>White</td>\n",
              "      <td>Male</td>\n",
              "      <td>0</td>\n",
              "      <td>0</td>\n",
              "      <td>40</td>\n",
              "      <td>United-States</td>\n",
              "      <td>&gt;50K</td>\n",
              "    </tr>\n",
              "    <tr>\n",
              "      <th>32558</th>\n",
              "      <td>58</td>\n",
              "      <td>Private</td>\n",
              "      <td>151910</td>\n",
              "      <td>HS-grad</td>\n",
              "      <td>9</td>\n",
              "      <td>Widowed</td>\n",
              "      <td>Adm-clerical</td>\n",
              "      <td>Unmarried</td>\n",
              "      <td>White</td>\n",
              "      <td>Female</td>\n",
              "      <td>0</td>\n",
              "      <td>0</td>\n",
              "      <td>40</td>\n",
              "      <td>United-States</td>\n",
              "      <td>&lt;=50K</td>\n",
              "    </tr>\n",
              "    <tr>\n",
              "      <th>32559</th>\n",
              "      <td>22</td>\n",
              "      <td>Private</td>\n",
              "      <td>201490</td>\n",
              "      <td>HS-grad</td>\n",
              "      <td>9</td>\n",
              "      <td>Never-married</td>\n",
              "      <td>Adm-clerical</td>\n",
              "      <td>Own-child</td>\n",
              "      <td>White</td>\n",
              "      <td>Male</td>\n",
              "      <td>0</td>\n",
              "      <td>0</td>\n",
              "      <td>20</td>\n",
              "      <td>United-States</td>\n",
              "      <td>&lt;=50K</td>\n",
              "    </tr>\n",
              "    <tr>\n",
              "      <th>32560</th>\n",
              "      <td>52</td>\n",
              "      <td>Self-emp-inc</td>\n",
              "      <td>287927</td>\n",
              "      <td>HS-grad</td>\n",
              "      <td>9</td>\n",
              "      <td>Married-civ-spouse</td>\n",
              "      <td>Exec-managerial</td>\n",
              "      <td>Wife</td>\n",
              "      <td>White</td>\n",
              "      <td>Female</td>\n",
              "      <td>15024</td>\n",
              "      <td>0</td>\n",
              "      <td>40</td>\n",
              "      <td>United-States</td>\n",
              "      <td>&gt;50K</td>\n",
              "    </tr>\n",
              "  </tbody>\n",
              "</table>\n",
              "<p>32561 rows × 15 columns</p>\n",
              "</div>"
            ],
            "text/plain": [
              "       Age          Workclass  Fnlwgt    Education  education_num  \\\n",
              "0       39          State-gov   77516    Bachelors             13   \n",
              "1       50   Self-emp-not-inc   83311    Bachelors             13   \n",
              "2       38            Private  215646      HS-grad              9   \n",
              "3       53            Private  234721         11th              7   \n",
              "4       28            Private  338409    Bachelors             13   \n",
              "...    ...                ...     ...          ...            ...   \n",
              "32556   27            Private  257302   Assoc-acdm             12   \n",
              "32557   40            Private  154374      HS-grad              9   \n",
              "32558   58            Private  151910      HS-grad              9   \n",
              "32559   22            Private  201490      HS-grad              9   \n",
              "32560   52       Self-emp-inc  287927      HS-grad              9   \n",
              "\n",
              "            marital_status          occupation    relationship    race  \\\n",
              "0            Never-married        Adm-clerical   Not-in-family   White   \n",
              "1       Married-civ-spouse     Exec-managerial         Husband   White   \n",
              "2                 Divorced   Handlers-cleaners   Not-in-family   White   \n",
              "3       Married-civ-spouse   Handlers-cleaners         Husband   Black   \n",
              "4       Married-civ-spouse      Prof-specialty            Wife   Black   \n",
              "...                    ...                 ...             ...     ...   \n",
              "32556   Married-civ-spouse        Tech-support            Wife   White   \n",
              "32557   Married-civ-spouse   Machine-op-inspct         Husband   White   \n",
              "32558              Widowed        Adm-clerical       Unmarried   White   \n",
              "32559        Never-married        Adm-clerical       Own-child   White   \n",
              "32560   Married-civ-spouse     Exec-managerial            Wife   White   \n",
              "\n",
              "           sex  capital_gain  capital_loss  hours_per_week  native_country  \\\n",
              "0         Male          2174             0              40   United-States   \n",
              "1         Male             0             0              13   United-States   \n",
              "2         Male             0             0              40   United-States   \n",
              "3         Male             0             0              40   United-States   \n",
              "4       Female             0             0              40            Cuba   \n",
              "...        ...           ...           ...             ...             ...   \n",
              "32556   Female             0             0              38   United-States   \n",
              "32557     Male             0             0              40   United-States   \n",
              "32558   Female             0             0              40   United-States   \n",
              "32559     Male             0             0              20   United-States   \n",
              "32560   Female         15024             0              40   United-States   \n",
              "\n",
              "       income  \n",
              "0       <=50K  \n",
              "1       <=50K  \n",
              "2       <=50K  \n",
              "3       <=50K  \n",
              "4       <=50K  \n",
              "...       ...  \n",
              "32556   <=50K  \n",
              "32557    >50K  \n",
              "32558   <=50K  \n",
              "32559   <=50K  \n",
              "32560    >50K  \n",
              "\n",
              "[32561 rows x 15 columns]"
            ]
          },
          "execution_count": 1,
          "metadata": {},
          "output_type": "execute_result"
        }
      ],
      "source": [
        "import pandas as pd\n",
        "import numpy as np\n",
        "import matplotlib.pyplot as plt\n",
        "import seaborn as ns\n",
        "a=['Age', 'Workclass', 'Fnlwgt', 'Education', 'education_num' ,'marital_status', 'occupation', 'relationship', 'race', 'sex', 'capital_gain','capital_loss','hours_per_week','native_country','income']\n",
        "\n",
        "data=pd.read_csv(\"adult.csv\",names=a)\n",
        "data"
      ]
    },
    {
      "cell_type": "code",
      "execution_count": null,
      "id": "c5178438",
      "metadata": {
        "id": "c5178438",
        "outputId": "a7f40e74-9e97-4f11-b8c8-631199955bbf"
      },
      "outputs": [
        {
          "data": {
            "text/plain": [
              "Age               0\n",
              "Workclass         0\n",
              "Fnlwgt            0\n",
              "Education         0\n",
              "education_num     0\n",
              "marital_status    0\n",
              "occupation        0\n",
              "relationship      0\n",
              "race              0\n",
              "sex               0\n",
              "capital_gain      0\n",
              "capital_loss      0\n",
              "hours_per_week    0\n",
              "native_country    0\n",
              "income            0\n",
              "dtype: int64"
            ]
          },
          "execution_count": 2,
          "metadata": {},
          "output_type": "execute_result"
        }
      ],
      "source": [
        "data.isnull().sum()"
      ]
    },
    {
      "cell_type": "code",
      "execution_count": null,
      "id": "8fe41116",
      "metadata": {
        "id": "8fe41116",
        "outputId": "3f5d2c4f-2c55-4b18-94de-b1e348acfd57"
      },
      "outputs": [
        {
          "name": "stdout",
          "output_type": "stream",
          "text": [
            "['Workclass', 'Education', 'marital_status', 'occupation', 'relationship', 'race', 'sex', 'native_country', 'income']\n"
          ]
        }
      ],
      "source": [
        "obj_col=[i for i in data.columns if data[i].dtypes=='object']\n",
        "print(obj_col)"
      ]
    },
    {
      "cell_type": "code",
      "execution_count": null,
      "id": "81e7e139",
      "metadata": {
        "id": "81e7e139"
      },
      "outputs": [],
      "source": [
        "from sklearn.preprocessing import LabelEncoder\n",
        "lb = LabelEncoder()"
      ]
    },
    {
      "cell_type": "code",
      "execution_count": null,
      "id": "b7f7ab05",
      "metadata": {
        "id": "b7f7ab05"
      },
      "outputs": [],
      "source": [
        "for i in obj_col:\n",
        "    data[i] = lb.fit_transform(data[i])"
      ]
    },
    {
      "cell_type": "code",
      "execution_count": null,
      "id": "14247292",
      "metadata": {
        "id": "14247292",
        "outputId": "3f02d20f-12cf-4fbc-8076-de8ddc002a75"
      },
      "outputs": [
        {
          "data": {
            "text/plain": [
              "(32561, 14)"
            ]
          },
          "execution_count": 6,
          "metadata": {},
          "output_type": "execute_result"
        }
      ],
      "source": [
        "x=data.iloc[:,:14].values\n",
        "y=data.iloc[:,14].values\n",
        "x.shape"
      ]
    },
    {
      "cell_type": "code",
      "execution_count": null,
      "id": "0f5f4298",
      "metadata": {
        "id": "0f5f4298",
        "outputId": "7985984f-6e30-40ee-b1fa-277fdf8e4a38"
      },
      "outputs": [
        {
          "data": {
            "text/plain": [
              "(32561,)"
            ]
          },
          "execution_count": 7,
          "metadata": {},
          "output_type": "execute_result"
        }
      ],
      "source": [
        "y.shape"
      ]
    },
    {
      "cell_type": "code",
      "execution_count": null,
      "id": "2284fcbc",
      "metadata": {
        "id": "2284fcbc",
        "outputId": "1b27fc24-c832-4a66-961f-3ca477c708b2"
      },
      "outputs": [
        {
          "data": {
            "text/plain": [
              "(26048, 14)"
            ]
          },
          "execution_count": 8,
          "metadata": {},
          "output_type": "execute_result"
        }
      ],
      "source": [
        "from sklearn.model_selection import train_test_split\n",
        "xtrain,xtest,ytrain,ytest=train_test_split(x,y,test_size=0.20,random_state=1)\n",
        "xtrain.shape"
      ]
    },
    {
      "cell_type": "code",
      "execution_count": null,
      "id": "c52efea1",
      "metadata": {
        "id": "c52efea1",
        "outputId": "3d5a43f5-1e62-4693-afae-279518b47d27"
      },
      "outputs": [
        {
          "data": {
            "text/plain": [
              "(26048,)"
            ]
          },
          "execution_count": 9,
          "metadata": {},
          "output_type": "execute_result"
        }
      ],
      "source": [
        "ytrain.shape"
      ]
    },
    {
      "cell_type": "code",
      "execution_count": null,
      "id": "abedd49c",
      "metadata": {
        "id": "abedd49c"
      },
      "outputs": [],
      "source": [
        "from sklearn.metrics import confusion_matrix,classification_report\n",
        "from sklearn.metrics import accuracy_score"
      ]
    },
    {
      "cell_type": "code",
      "execution_count": null,
      "id": "619745ff",
      "metadata": {
        "id": "619745ff"
      },
      "outputs": [],
      "source": [
        "from sklearn.tree import DecisionTreeClassifier\n",
        "from sklearn.ensemble import RandomForestClassifier\n",
        "from sklearn.linear_model import LogisticRegression\n",
        "from sklearn.neighbors import KNeighborsClassifier\n",
        "from sklearn.svm import SVC"
      ]
    },
    {
      "cell_type": "code",
      "execution_count": null,
      "id": "d2929b27",
      "metadata": {
        "id": "d2929b27"
      },
      "outputs": [],
      "source": [
        "def apply_model(xtrain,xtest,ytrain,ytest,model):\n",
        " model.fit(xtrain,ytrain)\n",
        " ypred=model.predict(xtest)\n",
        " print(\"prediction of income for test data :\", ypred)\n",
        " print(\"Training score:\",model.score(xtrain,ytrain))\n",
        " print(\"Testing score:\",model.score(xtest,ytest))\n",
        " print('Accuracy score:',accuracy_score(ytest,ypred)*100)\n",
        " cm=confusion_matrix(ytest,ypred)\n",
        " print(\"confusion matrix: \\n\",cm)\n",
        " print(\"classification report : \\n \",classification_report(ytest,ypred))\n",
        " pr=cm[0][0]/(cm[0][0]+cm[1][0])\n",
        " re=cm[0][0]/(cm[0][0]+cm[0][1])\n",
        " print(\"precision:\",pr)\n",
        " print(\"recall:\",re)\n",
        " print(\"F-1 score: \",2*pr*re/(pr+re))\n",
        " acc=(cm[0][0]+cm[1][1])/(cm[0][0]+cm[1][0]+cm[0][1]+cm[1][1])\n",
        " print(\"Accuracy: \",acc)\n",
        " print(\" \")\n",
        " miss=(cm[1][0]+cm[0][1]/(cm[0][0]+cm[1][0]+cm[0][1]+cm[1][1]))\n",
        " print(\"percentage of missclassification :\\n\",miss)"
      ]
    },
    {
      "cell_type": "code",
      "execution_count": null,
      "id": "e611a135",
      "metadata": {
        "id": "e611a135",
        "outputId": "1ee01d7c-e39c-480b-b2f8-cf4c1d89a885"
      },
      "outputs": [
        {
          "name": "stdout",
          "output_type": "stream",
          "text": [
            "prediction of income for test data : [0 0 1 ... 0 0 1]\n",
            "Training score: 0.9999616093366094\n",
            "Testing score: 0.81759557807462\n",
            "Accuracy score: 81.759557807462\n",
            "confusion matrix: \n",
            " [[4378  648]\n",
            " [ 540  947]]\n",
            "classification report : \n",
            "                precision    recall  f1-score   support\n",
            "\n",
            "           0       0.89      0.87      0.88      5026\n",
            "           1       0.59      0.64      0.61      1487\n",
            "\n",
            "    accuracy                           0.82      6513\n",
            "   macro avg       0.74      0.75      0.75      6513\n",
            "weighted avg       0.82      0.82      0.82      6513\n",
            "\n",
            "precision: 0.89019926799512\n",
            "recall: 0.8710704337445284\n",
            "F-1 score:  0.8805309734513275\n",
            "Accuracy:  0.81759557807462\n",
            " \n",
            "percentage of missclassification :\n",
            " 540.0994933210502\n"
          ]
        }
      ],
      "source": [
        "Model1=DecisionTreeClassifier(criterion='gini')\n",
        "apply_model(xtrain,xtest,ytrain,ytest,Model1)"
      ]
    },
    {
      "cell_type": "code",
      "execution_count": null,
      "id": "4c1db7bf",
      "metadata": {
        "id": "4c1db7bf",
        "outputId": "2738359e-6d66-4673-9d11-fcdc881c6b0a"
      },
      "outputs": [
        {
          "name": "stdout",
          "output_type": "stream",
          "text": [
            "prediction of income for test data : [0 0 1 ... 0 0 1]\n",
            "Training score: 0.9999232186732187\n",
            "Testing score: 0.8638108398587441\n",
            "Accuracy score: 86.38108398587441\n",
            "confusion matrix: \n",
            " [[4660  366]\n",
            " [ 521  966]]\n",
            "classification report : \n",
            "                precision    recall  f1-score   support\n",
            "\n",
            "           0       0.90      0.93      0.91      5026\n",
            "           1       0.73      0.65      0.69      1487\n",
            "\n",
            "    accuracy                           0.86      6513\n",
            "   macro avg       0.81      0.79      0.80      6513\n",
            "weighted avg       0.86      0.86      0.86      6513\n",
            "\n",
            "precision: 0.8994402624975874\n",
            "recall: 0.9271786709112615\n",
            "F-1 score:  0.9130988537278338\n",
            "Accuracy:  0.8638108398587441\n",
            " \n",
            "percentage of missclassification :\n",
            " 521.0561953017043\n"
          ]
        }
      ],
      "source": [
        "Model2=RandomForestClassifier()\n",
        "apply_model(xtrain,xtest,ytrain,ytest,Model2)"
      ]
    },
    {
      "cell_type": "code",
      "execution_count": null,
      "id": "7b295fd7",
      "metadata": {
        "id": "7b295fd7",
        "outputId": "07322859-cb09-4101-c59a-76e92311b0fd"
      },
      "outputs": [
        {
          "name": "stdout",
          "output_type": "stream",
          "text": [
            "prediction of income for test data : [0 0 1 ... 0 0 0]\n",
            "Training score: 0.7908476658476659\n",
            "Testing score: 0.8031629049593122\n",
            "Accuracy score: 80.31629049593121\n",
            "confusion matrix: \n",
            " [[4804  222]\n",
            " [1060  427]]\n",
            "classification report : \n",
            "                precision    recall  f1-score   support\n",
            "\n",
            "           0       0.82      0.96      0.88      5026\n",
            "           1       0.66      0.29      0.40      1487\n",
            "\n",
            "    accuracy                           0.80      6513\n",
            "   macro avg       0.74      0.62      0.64      6513\n",
            "weighted avg       0.78      0.80      0.77      6513\n",
            "\n",
            "precision: 0.8192360163710778\n",
            "recall: 0.9558296856346996\n",
            "F-1 score:  0.882277318640955\n",
            "Accuracy:  0.8031629049593122\n",
            " \n",
            "percentage of missclassification :\n",
            " 1060.0340856748041\n"
          ]
        }
      ],
      "source": [
        "Model3=LogisticRegression(solver='liblinear')\n",
        "apply_model(xtrain,xtest,ytrain,ytest,Model3)"
      ]
    },
    {
      "cell_type": "code",
      "execution_count": null,
      "id": "912b7840",
      "metadata": {
        "id": "912b7840",
        "outputId": "3ee796ef-c1aa-4fb2-d7d9-4acc23ff85e6"
      },
      "outputs": [
        {
          "name": "stdout",
          "output_type": "stream",
          "text": [
            "prediction of income for test data : [0 0 1 ... 0 0 0]\n",
            "Training score: 0.8050138206388207\n",
            "Testing score: 0.8050053738676494\n",
            "Accuracy score: 80.50053738676493\n",
            "confusion matrix: \n",
            " [[4905  121]\n",
            " [1149  338]]\n",
            "classification report : \n",
            "                precision    recall  f1-score   support\n",
            "\n",
            "           0       0.81      0.98      0.89      5026\n",
            "           1       0.74      0.23      0.35      1487\n",
            "\n",
            "    accuracy                           0.81      6513\n",
            "   macro avg       0.77      0.60      0.62      6513\n",
            "weighted avg       0.79      0.81      0.76      6513\n",
            "\n",
            "precision: 0.8102081268582755\n",
            "recall: 0.975925189017111\n",
            "F-1 score:  0.8853790613718411\n",
            "Accuracy:  0.8050053738676494\n",
            " \n",
            "percentage of missclassification :\n",
            " 1149.018578228159\n"
          ]
        }
      ],
      "source": [
        "Model4 = KNeighborsClassifier(n_neighbors=15)\n",
        "apply_model(xtrain,xtest,ytrain,ytest,Model4)"
      ]
    },
    {
      "cell_type": "code",
      "execution_count": null,
      "id": "05fe2d49",
      "metadata": {
        "id": "05fe2d49"
      },
      "outputs": [],
      "source": [
        "Random classifier is the best classifier with the accuracy 86.381%"
      ]
    }
  ],
  "metadata": {
    "kernelspec": {
      "display_name": "Python 3 (ipykernel)",
      "language": "python",
      "name": "python3"
    },
    "language_info": {
      "codemirror_mode": {
        "name": "ipython",
        "version": 3
      },
      "file_extension": ".py",
      "mimetype": "text/x-python",
      "name": "python",
      "nbconvert_exporter": "python",
      "pygments_lexer": "ipython3",
      "version": "3.9.12"
    },
    "colab": {
      "name": "Untitled (1).ipynb",
      "provenance": [],
      "include_colab_link": true
    }
  },
  "nbformat": 4,
  "nbformat_minor": 5
}